{
 "cells": [
  {
   "cell_type": "markdown",
   "execution_count": null,
   "metadata": {},
   "outputs": [],
   "source": [
    "# E over m  Experiment:  A Model\n",
    "## Your name here - double-click to edit\n"
   ]
  },
  {
   "cell_type": "markdown",
   "execution_count": null,
   "metadata": {},
   "outputs": [],
   "source": [
    "Always put your imports at the top. \n",
    "The main ones are below, abut add any imports from your simulation package."
   ]
  },
  {
   "cell_type": "code",
   "execution_count": 1,
   "metadata": {},
   "outputs": [],
   "source": [
    "import numpy as np\n",
    "from matplotlib import pyplot as plt\n",
    "from em_Simulation import HH_field, Lorentz_force # These are  functions you will create\n"
   ]
  },
  {
   "cell_type": "markdown",
   "execution_count": null,
   "metadata": {},
   "outputs": [],
   "source": [
    "## Statement of Problem \n",
    "\n",
    "Charges are heated up in  a metal filament using a low voltage, and boil off.  As they boil off, they enter a region of electric field in which they are accelerated towards a positive circular plate.\n",
    "\n",
    "A hole in the center of the plate allows the charges to continue through in a region in which a magnetic field acts perpendicular to the path of the moving charges.  The path is bent into a semi-circlular path by the magnetic field, and the charges hit the plate a certain distance out from the center of the plate, where their enegery creates a bright spot upon their landing on a fluorescent ring painted on the plate.\n",
    "\n",
    "Your goal in this simulation is to use a simple Euler integration method to determine how far out from the center of the ring the charges strike, based on the accelerating potential and the magnetic field created by a pair of Helmholts coils.\n"
   ]
  },
  {
   "cell_type": "markdown",
   "metadata": {},
   "source": [
    "## Part 1\n",
    "In the code cell below:\n",
    "* Define the quantities you will need, using SI units.\n",
    "* From conservation of energy, code an equation that finds the final velocity of (v_e) an electron that has been accelerated through Vacc\n",
    "* Print the output velocity for an accelerating potential of 100 Volts.  Check that this is less than the speed of light!\n",
    "\n"
   ]
  },
  {
   "cell_type": "code",
   "execution_count": 2,
   "metadata": {},
   "outputs": [
    {
     "name": "stdout",
     "output_type": "stream",
     "text": "Speed of electron (m/s) 5135525.910130954\nThe speed of the electron compared to speed of light: 0.017175671940237305\n"
    }
   ],
   "source": [
    "V_i = -60\n",
    "V_f = -135\n",
    "dV = (V_f - V_i)  \n",
    "q = -1.6e-19\n",
    "m = 9.1e-31\n",
    "\n",
    "# the electron speed assuming that it is at rest to begin with\n",
    "e_speed = np.sqrt(2 * q * dV / m)\n",
    "print(\"Speed of electron (m/s)\", e_speed)  # Helps to label\n",
    "c = 2.99e8\n",
    "print(\"The speed of the electron compared to speed of light:\", e_speed/c) #Again, a label"
   ]
  },
  {
   "cell_type": "markdown",
   "metadata": {},
   "source": [
    "## Part 2\n",
    "\n",
    "* In the accompanying simulation.py file, create a function that has as input: the number of wraps on the coil (N), the current into the coil in Amps (I), the radius of each coil in meters (L); \n",
    "* and that returns the magnetic field strength in SI units.\n",
    "* The beginning of the function, called HH_field, has been started in the emsimulation.py file\n",
    "\n",
    "In the code below, check that your function produces a reasonable magnetic field."
   ]
  },
  {
   "cell_type": "code",
   "execution_count": 3,
   "metadata": {},
   "outputs": [
    {
     "name": "stdout",
     "output_type": "stream",
     "text": "Magnetic field from coils (T) [0.00233786 0.         0.        ]\n"
    }
   ],
   "source": [
    "# gives the magnitude but not the direction of the B field\n",
    "Bmag = HH_field(130, 3, 0.15)  # Fixed mu0 in function\n",
    "# setting the coordinates to align with what's in my notebook\n",
    "B_field = np.array([Bmag, 0, 0])\n",
    "print(\" Magnetic field from coils (T)\", B_field)"
   ]
  },
  {
   "cell_type": "markdown",
   "metadata": {},
   "source": [
    "## Part 3\n",
    "* Create a 3x1 vector array that points the Helmholtz field in the x-direction.\n",
    "* Create a 3x1 array that initiallizes the velocity of the charge to have the accelerated speed found earlier, and is in the z direction.\n",
    "* Create a position array initially set to the origin (the hole in the plate)\n",
    "* Recall how to initialize an array in numpy, ie:  new_array=np.array($[x-value, y-value, z-value]$)\n",
    "* In simulation.py, create a function that returns a vector representing the Lorentz force on the charge. (Recall there is a np.cross function)\n",
    "* By using a while loop and the position of the charge, update the velocity and position of the charge in time as it moves through the magnetic field.  Exit the loop when the charge has fallen back to z=0.\n",
    "* Recall you will need a dt that is reasonable.  Use the speed of the charge, and figure that it will travel a few cm overall (or a fraction of a mm in each time step), to determine a reasonable dt.  Be sure to explain what value you used for dt, and how you determined this\n",
    "* Be sure to print out the final position of the charge when it lands.  How may the radius of the path be determined from this?\n",
    "\n"
   ]
  },
  {
   "cell_type": "code",
   "execution_count": 4,
   "metadata": {},
   "outputs": [
    {
     "name": "stdout",
     "output_type": "stream",
     "text": "Final position of electron on plate: [ 0.00000000e+00 -2.49952993e-02 -9.68436643e-07]\n"
    }
   ],
   "source": [
    "\n",
    "\n",
    "\n",
    "# the lists below will contain the history of the position components\n",
    "e_x = []\n",
    "e_y = []\n",
    "e_z = []\n",
    "\n",
    "e_vel = np.array([0, 0, e_speed])\n",
    "e_mom = m * e_vel\n",
    "e_pos = np.array([0, 0, 0])\n",
    "\n",
    "t = 0\n",
    "dt = 1e-12  # Way too small--I upped this\n",
    "\n",
    "while e_pos[2] >= 0:\n",
    "    \n",
    "    e_force = Lorentz_force(q, e_vel, B_field)\n",
    "    e_mom = e_mom + e_force * dt\n",
    "    e_vel = e_mom / m\n",
    "    e_pos = e_pos + e_vel * dt\n",
    "    \n",
    "    # below are \n",
    "    e_x.append(e_pos[0])\n",
    "    e_y.append(e_pos[1])\n",
    "    e_z.append(e_pos[2])\n",
    "    \n",
    "    t += dt\n",
    "    \n",
    "\n",
    "# below is the history of the position components as arrays\n",
    "print(\"Final position of electron on plate:\", e_pos)\n",
    "x_array = np.array(e_x)\n",
    "y_array = np.array(e_y)\n",
    "z_array = np.array(e_z)"
   ]
  },
  {
   "cell_type": "markdown",
   "metadata": {},
   "source": [
    "## Part 4:  BONUS\n",
    "* Try making a plot of the position as the charge moves through the magnetic field.  The particle should move solely in the z-y plane.\n",
    "* Python plotting will not plot nicely in a loop, so you will have to store the x, y, z positions in arrays while the loop executes.\n",
    "* However, python needs to know the size of an array to create an array, and this is unknown before the loop executes.\n",
    "*A workaround is to create empty lists for the x, y, z posittions, and append to these as the loop executes.  The lists may be converted to arrays after the loop is done.\n",
    "\n"
   ]
  },
  {
   "cell_type": "code",
   "execution_count": null,
   "metadata": {},
   "outputs": [],
   "source": []
  }
 ],
 "metadata": {
  "kernelspec": {
   "display_name": "Python 3",
   "language": "python",
   "name": "python3"
  },
  "language_info": {
   "codemirror_mode": {
    "name": "ipython",
    "version": 3
   },
   "file_extension": ".py",
   "mimetype": "text/x-python",
   "name": "python",
   "nbconvert_exporter": "python",
   "pygments_lexer": "ipython3",
   "version": "3.7.6-final"
  }
 },
 "nbformat": 4,
 "nbformat_minor": 4
}